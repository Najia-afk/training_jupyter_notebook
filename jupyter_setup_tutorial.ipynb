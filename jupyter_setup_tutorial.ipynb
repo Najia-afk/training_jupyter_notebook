{
 "cells": [
  {
   "cell_type": "markdown",
   "id": "d97ecae9",
   "metadata": {},
   "source": [
    "# Getting Started with Jupyter Notebooks in VS Code\n",
    "\n",
    "Welcome to this tutorial! Today, we'll learn how to set up and use Jupyter Notebooks in Visual Studio Code for local development without internet access.\n",
    "\n",
    "## Prerequisites\n",
    "- Visual Studio Code installed\n",
    "- Basic understanding of Python"
   ]
  },
  {
   "cell_type": "markdown",
   "id": "83287e3f",
   "metadata": {},
   "source": [
    "## Installing Required Extensions (VSIX)\n",
    "\n",
    "For working with Jupyter Notebooks locally, you'll need to install these VS Code extensions:\n",
    "\n",
    "1. **Python Extension**: Provides Python language support\n",
    "2. **Jupyter Extension**: Supports Jupyter notebook functionality\n",
    "3. **Jupyter Keymap**: Adds Jupyter keyboard shortcuts\n",
    "4. **Jupyter Notebook Renderers**: Enhances notebook output rendering\n",
    "\n",
    "### How to Install VSIX files:\n",
    "1. Open VS Code\n",
    "2. Go to Extensions view (Ctrl+Shift+X)\n",
    "3. Click on the \"...\" menu (top-right of Extensions view)\n",
    "4. Select \"Install from VSIX...\"\n",
    "5. Navigate to the folder containing your VSIX files\n",
    "6. Select and install each required extension\n",
    "\n",
    "**Note**: These extensions are pre-downloaded for you since you're working in an offline environment."
   ]
  },
  {
   "cell_type": "markdown",
   "id": "c1f6d8d5",
   "metadata": {},
   "source": [
    "## 1- Your First Jupyter Notebook\n",
    "\n",
    "Let's run a simple \"Hello World\" example to ensure everything is working correctly."
   ]
  },
  {
   "cell_type": "code",
   "execution_count": null,
   "id": "284acd37",
   "metadata": {},
   "outputs": [],
   "source": [
    "# Your first Jupyter code cell\n",
    "print(\"Hello, Jupyter World!\")\n",
    "\n",
    "# Let's check Python version\n",
    "import sys\n",
    "print(f\"Python version: {sys.version}\")"
   ]
  },
  {
   "cell_type": "markdown",
   "id": "b0395254",
   "metadata": {},
   "source": [
    "### Note on Execution Results\n",
    "\n",
    "If the Hello World example failed to run, don't worry! This is normal at this stage. Currently, there might not be a proper connection between your Python installation and the Jupyter Notebook environment.\n",
    "\n",
    "We'll explain below how to properly set up a Jupyter Notebook with a Python environment. This setup ensures that:\n",
    "1. Your notebook can find and use your Python installation\n",
    "2. Dependencies are managed properly\n",
    "3. Your work is reproducible across different machines\n",
    "\n",
    "**Important:** If you were able to run the Hello World example using your basic Python installation without relying on a virtual environment, it means your packages are installed at the root level. While this works, it may create conflicts in the future as different projects might require different versions of the same packages.\n",
    "\n",
    "The virtual environment setup we'll cover next is considered a best practice for Python development."
   ]
  },
  {
   "cell_type": "markdown",
   "id": "effc8dcf",
   "metadata": {},
   "source": [
    "## 2- Working with Virtual Environments\n",
    "\n",
    "A virtual environment is an isolated Python environment that allows you to install packages without affecting your system Python installation.\n",
    "\n",
    "### Creating a Virtual Environment\n",
    "Run this in the VS Code terminal:"
   ]
  },
  {
   "cell_type": "code",
   "execution_count": null,
   "id": "f0b6cf81",
   "metadata": {},
   "outputs": [],
   "source": [
    "# Create a virtual environment in a venv folder\n",
    "python -m venv <name_my_venv> # Replace <name_my_venv> with your desired name, e.g., venv_myproject\n",
    "\n",
    "# Activating the virtual environment:\n",
    "# On Windows\n",
    ".\\venv\\Scripts\\activate\n",
    "# On macOS and Linux\n",
    "source venv/bin/activate"
   ]
  },
  {
   "cell_type": "markdown",
   "id": "9637ee5a",
   "metadata": {},
   "source": [
    "### Understanding the Virtual Environment Indicator\n",
    "\n",
    "After activating your virtual environment, you'll notice the name of your environment (e.g., `(venv_myproject)`) appears in green at the beginning of your command prompt. This is an important visual indicator that:\n",
    "\n",
    "1. You are now working within the isolated Python environment you created\n",
    "2. Any packages you install with pip will only be installed in this environment\n",
    "3. Python will use only the libraries installed in this environment, not your global Python installation\n",
    "\n",
    "This green indicator helps you avoid confusion about which Python environment you're currently using. If you don't see this indicator, your commands will affect your system-wide Python installation instead of your project-specific environment.\n",
    "\n",
    "Remember: Always check for this indicator before installing packages or running Python code to ensure you're working in the intended environment."
   ]
  },
  {
   "cell_type": "markdown",
   "id": "c9de5e8d",
   "metadata": {},
   "source": [
    "## 3- Installing Python Packages in Your Virtual Environment\n",
    "\n",
    "Now that we have our virtual environment created and activated (indicated by the green environment name in the terminal), we can install Python packages that will be isolated to this environment.\n",
    "\n",
    "### Benefits of Installing in a Virtual Environment:\n",
    "- Packages won't interfere with your global Python installation\n",
    "- Different projects can use different package versions\n",
    "- Dependencies are clearly documented and reproducible\n",
    "- You can easily share your environment configuration with others\n",
    "\n",
    "### Installing Packages with pip:\n",
    "The standard tool for installing Python packages is pip. With your virtual environment activated, any packages you install will be contained within that environment.\n",
    "\n",
    "In the next cell, we'll install and verify the following packages.\n",
    "\n",
    "1. **pandas**: A powerful data manipulation and analysis library\n",
    "2. **notebook**: Core components for Jupyter notebooks functionality\n",
    "3. **pandasql**: SQL toolkit for pandas\n",
    "\n",
    "These packages provide the foundation for most data science work, from data loading and cleaning to visualization and database interaction."
   ]
  },
  {
   "cell_type": "code",
   "execution_count": null,
   "id": "bfd1b34f",
   "metadata": {},
   "outputs": [],
   "source": [
    "# Install pandas, notebook, and pandasql packages\n",
    "pip install pandas notebook pandasql\n",
    "\n",
    "# Verify the installation by checking the installed packages\n",
    "pip freeze\n",
    "\n",
    "# Create a requirements.txt file with the installed packages and their versions\n",
    "pip freeze > requirements.txt"
   ]
  },
  {
   "cell_type": "markdown",
   "id": "b1b8f1eb",
   "metadata": {},
   "source": [
    "## 4- Now Let's Finally Use Jupyter Notebook in VS Code\n",
    "\n",
    "1. **Select your Python interpreter (virtual environment)**:\n",
    "    - Click on the Python environment selector in the bottom status bar of VS Code\n",
    "    - OR click on \"Select Kernel\" in the top-right corner of your notebook\n",
    "    - Choose the virtual environment you created earlier from the dropdown list\n",
    "\n",
    "2. **Run your first notebook cell**:\n",
    "    - Click the \"Play\" button to the left of the cell below\n",
    "    - OR use the keyboard shortcut: Shift+Enter\n",
    "\n",
    "This will activate your virtual environment within the notebook context, giving you access to all the packages you installed.\n",
    "\n",
    "**Note**: You'll know your virtual environment is active when you see its name displayed in the kernel selector at the top-right of the notebook.\n",
    "\n",
    "Now you're ready to start working with your data in an isolated, reproducible environment!"
   ]
  },
  {
   "cell_type": "code",
   "execution_count": 30,
   "id": "ad13d34a",
   "metadata": {},
   "outputs": [
    {
     "data": {
      "application/vnd.microsoft.datawrangler.viewer.v0+json": {
       "columns": [
        {
         "name": "index",
         "rawType": "int64",
         "type": "integer"
        },
        {
         "name": "0",
         "rawType": "object",
         "type": "string"
        }
       ],
       "ref": "d41e27e5-7511-45d0-a6bf-fc54d6cc11d1",
       "rows": [
        [
         "0",
         "anyio==4.9.0"
        ],
        [
         "1",
         "argon2-cffi==25.1.0"
        ],
        [
         "2",
         "argon2-cffi-bindings==21.2.0"
        ],
        [
         "3",
         "arrow==1.3.0"
        ],
        [
         "4",
         "asttokens==3.0.0"
        ]
       ],
       "shape": {
        "columns": 1,
        "rows": 5
       }
      },
      "text/html": [
       "<div>\n",
       "<style scoped>\n",
       "    .dataframe tbody tr th:only-of-type {\n",
       "        vertical-align: middle;\n",
       "    }\n",
       "\n",
       "    .dataframe tbody tr th {\n",
       "        vertical-align: top;\n",
       "    }\n",
       "\n",
       "    .dataframe thead th {\n",
       "        text-align: right;\n",
       "    }\n",
       "</style>\n",
       "<table border=\"1\" class=\"dataframe\">\n",
       "  <thead>\n",
       "    <tr style=\"text-align: right;\">\n",
       "      <th></th>\n",
       "      <th>0</th>\n",
       "    </tr>\n",
       "  </thead>\n",
       "  <tbody>\n",
       "    <tr>\n",
       "      <th>0</th>\n",
       "      <td>anyio==4.9.0</td>\n",
       "    </tr>\n",
       "    <tr>\n",
       "      <th>1</th>\n",
       "      <td>argon2-cffi==25.1.0</td>\n",
       "    </tr>\n",
       "    <tr>\n",
       "      <th>2</th>\n",
       "      <td>argon2-cffi-bindings==21.2.0</td>\n",
       "    </tr>\n",
       "    <tr>\n",
       "      <th>3</th>\n",
       "      <td>arrow==1.3.0</td>\n",
       "    </tr>\n",
       "    <tr>\n",
       "      <th>4</th>\n",
       "      <td>asttokens==3.0.0</td>\n",
       "    </tr>\n",
       "  </tbody>\n",
       "</table>\n",
       "</div>"
      ],
      "text/plain": [
       "                              0\n",
       "0                  anyio==4.9.0\n",
       "1           argon2-cffi==25.1.0\n",
       "2  argon2-cffi-bindings==21.2.0\n",
       "3                  arrow==1.3.0\n",
       "4              asttokens==3.0.0"
      ]
     },
     "execution_count": 30,
     "metadata": {},
     "output_type": "execute_result"
    }
   ],
   "source": [
    "# Read the requirements.txt file with pandas - handling encoding correctly\n",
    "import pandas as pd\n",
    "\n",
    "# Read the file as a text file with pandas\n",
    "# Specify encoding to avoid UnicodeDecodeError\n",
    "# header=None is used to avoid treating the first line as a header\n",
    "df = pd.read_csv('requirements.txt', encoding='UTF-16', header=None)\n",
    "\n",
    "# Display the first few rows\n",
    "df.head()"
   ]
  },
  {
   "cell_type": "markdown",
   "id": "f2b5a76d",
   "metadata": {},
   "source": [
    "## 5- Data Engineering Preparation\n",
    "\n",
    "Now we'll run a small parser code to make our data more data engineering friendly. This will allow us to analyze our package versions more effectively.\n",
    "\n",
    "### Data Wrangler Extension\n",
    "\n",
    "To get a more interactive data manipulation experience:\n",
    "\n",
    "1. Install the **Data Wrangler VSIX** extension for VS Code\n",
    "    - Follow the same VSIX installation steps mentioned earlier\n",
    "    - This extension provides an interactive UI for data transformation\n",
    "\n",
    "2. After installation:\n",
    "    - Rerun this notebook\n",
    "    - Look for the \"Open df in Data Wrangler\" button that will appear above the DataFrame outputs\n",
    "    - Click this button to open an interactive view where you can filter, transform, and visualize the data without writing code\n",
    "\n",
    "This tool is especially helpful for exploratory data analysis and quick transformations!"
   ]
  },
  {
   "cell_type": "code",
   "execution_count": 31,
   "id": "98ec119b",
   "metadata": {},
   "outputs": [
    {
     "data": {
      "application/vnd.microsoft.datawrangler.viewer.v0+json": {
       "columns": [
        {
         "name": "index",
         "rawType": "int64",
         "type": "integer"
        },
        {
         "name": "0",
         "rawType": "object",
         "type": "string"
        },
        {
         "name": "package",
         "rawType": "object",
         "type": "string"
        },
        {
         "name": "version",
         "rawType": "object",
         "type": "string"
        },
        {
         "name": "major_version",
         "rawType": "object",
         "type": "string"
        },
        {
         "name": "minor_version",
         "rawType": "object",
         "type": "string"
        },
        {
         "name": "patch_version",
         "rawType": "object",
         "type": "string"
        }
       ],
       "ref": "3d945b36-94fa-460b-8373-126c31a12bc3",
       "rows": [
        [
         "0",
         "anyio==4.9.0",
         "anyio",
         "4.9.0",
         "4",
         "9",
         "0"
        ],
        [
         "1",
         "argon2-cffi==25.1.0",
         "argon2-cffi",
         "25.1.0",
         "25",
         "1",
         "0"
        ],
        [
         "2",
         "argon2-cffi-bindings==21.2.0",
         "argon2-cffi-bindings",
         "21.2.0",
         "21",
         "2",
         "0"
        ],
        [
         "3",
         "arrow==1.3.0",
         "arrow",
         "1.3.0",
         "1",
         "3",
         "0"
        ],
        [
         "4",
         "asttokens==3.0.0",
         "asttokens",
         "3.0.0",
         "3",
         "0",
         "0"
        ]
       ],
       "shape": {
        "columns": 6,
        "rows": 5
       }
      },
      "text/html": [
       "<div>\n",
       "<style scoped>\n",
       "    .dataframe tbody tr th:only-of-type {\n",
       "        vertical-align: middle;\n",
       "    }\n",
       "\n",
       "    .dataframe tbody tr th {\n",
       "        vertical-align: top;\n",
       "    }\n",
       "\n",
       "    .dataframe thead th {\n",
       "        text-align: right;\n",
       "    }\n",
       "</style>\n",
       "<table border=\"1\" class=\"dataframe\">\n",
       "  <thead>\n",
       "    <tr style=\"text-align: right;\">\n",
       "      <th></th>\n",
       "      <th>0</th>\n",
       "      <th>package</th>\n",
       "      <th>version</th>\n",
       "      <th>major_version</th>\n",
       "      <th>minor_version</th>\n",
       "      <th>patch_version</th>\n",
       "    </tr>\n",
       "  </thead>\n",
       "  <tbody>\n",
       "    <tr>\n",
       "      <th>0</th>\n",
       "      <td>anyio==4.9.0</td>\n",
       "      <td>anyio</td>\n",
       "      <td>4.9.0</td>\n",
       "      <td>4</td>\n",
       "      <td>9</td>\n",
       "      <td>0</td>\n",
       "    </tr>\n",
       "    <tr>\n",
       "      <th>1</th>\n",
       "      <td>argon2-cffi==25.1.0</td>\n",
       "      <td>argon2-cffi</td>\n",
       "      <td>25.1.0</td>\n",
       "      <td>25</td>\n",
       "      <td>1</td>\n",
       "      <td>0</td>\n",
       "    </tr>\n",
       "    <tr>\n",
       "      <th>2</th>\n",
       "      <td>argon2-cffi-bindings==21.2.0</td>\n",
       "      <td>argon2-cffi-bindings</td>\n",
       "      <td>21.2.0</td>\n",
       "      <td>21</td>\n",
       "      <td>2</td>\n",
       "      <td>0</td>\n",
       "    </tr>\n",
       "    <tr>\n",
       "      <th>3</th>\n",
       "      <td>arrow==1.3.0</td>\n",
       "      <td>arrow</td>\n",
       "      <td>1.3.0</td>\n",
       "      <td>1</td>\n",
       "      <td>3</td>\n",
       "      <td>0</td>\n",
       "    </tr>\n",
       "    <tr>\n",
       "      <th>4</th>\n",
       "      <td>asttokens==3.0.0</td>\n",
       "      <td>asttokens</td>\n",
       "      <td>3.0.0</td>\n",
       "      <td>3</td>\n",
       "      <td>0</td>\n",
       "      <td>0</td>\n",
       "    </tr>\n",
       "  </tbody>\n",
       "</table>\n",
       "</div>"
      ],
      "text/plain": [
       "                              0               package version major_version  \\\n",
       "0                  anyio==4.9.0                 anyio   4.9.0             4   \n",
       "1           argon2-cffi==25.1.0           argon2-cffi  25.1.0            25   \n",
       "2  argon2-cffi-bindings==21.2.0  argon2-cffi-bindings  21.2.0            21   \n",
       "3                  arrow==1.3.0                 arrow   1.3.0             1   \n",
       "4              asttokens==3.0.0             asttokens   3.0.0             3   \n",
       "\n",
       "  minor_version patch_version  \n",
       "0             9             0  \n",
       "1             1             0  \n",
       "2             2             0  \n",
       "3             3             0  \n",
       "4             0             0  "
      ]
     },
     "execution_count": 31,
     "metadata": {},
     "output_type": "execute_result"
    }
   ],
   "source": [
    "# Parse package information into separate columns\n",
    "# First, split the package name and version\n",
    "df[['package', 'version']] = df[0].str.split('==', expand=True)\n",
    "\n",
    "# Split the version into components\n",
    "version_parts = df['version'].str.split('.', expand=True)\n",
    "df['major_version'] = version_parts[0]\n",
    "df['minor_version'] = version_parts[1]\n",
    "df['patch_version'] = version_parts[2]\n",
    "\n",
    "# Display the transformed DataFrame\n",
    "df.head()"
   ]
  },
  {
   "cell_type": "code",
   "execution_count": 32,
   "id": "6d01b716",
   "metadata": {},
   "outputs": [
    {
     "name": "stdout",
     "output_type": "stream",
     "text": [
      "Total number of packages: 100\n",
      "\n",
      "Top 10 major versions by package count:\n",
      "  major_version  count\n",
      "0             0     25\n",
      "1             2     18\n",
      "2             1     14\n",
      "3             3     10\n",
      "4             4      6\n",
      "5             7      4\n",
      "6             6      4\n",
      "7             5      4\n",
      "8          2025      4\n",
      "9            25      3\n"
     ]
    }
   ],
   "source": [
    "# Import pandasql to run SQL queries on pandas DataFrames\n",
    "from pandasql import sqldf\n",
    "\n",
    "# Define a function to use SQL with pandas\n",
    "def pysqldf(q):\n",
    "    return sqldf(q, globals())\n",
    "\n",
    "# Write a SQL query to count the number of packages\n",
    "query = \"\"\"\n",
    "SELECT COUNT(*) AS package_count\n",
    "FROM df\n",
    "\"\"\"\n",
    "\n",
    "# Execute the query\n",
    "result = pysqldf(query)\n",
    "\n",
    "# Display the result\n",
    "print(f\"Total number of packages: {result['package_count'].iloc[0]}\")\n",
    "\n",
    "# Get the count of packages by major version\n",
    "version_query = \"\"\"\n",
    "SELECT major_version, COUNT(*) AS count\n",
    "FROM df\n",
    "GROUP BY major_version\n",
    "ORDER BY count DESC\n",
    "LIMIT 10\n",
    "\"\"\"\n",
    "\n",
    "# Execute the version query\n",
    "version_count = pysqldf(version_query)\n",
    "print(\"\\nTop 10 major versions by package count:\")\n",
    "print(version_count)"
   ]
  },
  {
   "cell_type": "markdown",
   "id": "1b30582a",
   "metadata": {},
   "source": [
    "## 6- Let's Visualize Package Distributions with Plotly\n",
    "\n",
    "Before we can run the visualization in the next cell, we need to make sure the `plotly` package is installed in our virtual environment:\n",
    "\n",
    "1. **Install Plotly**:\n",
    "    - Go back to cell 9 where we installed packages\n",
    "    - Add plotly to your local virtual environment: `pip install plotly`\n",
    "    - Run that cell again to install plotly\n",
    "\n",
    "2. **Update Requirements File**:\n",
    "    - After installation, rerun the cell that generates requirements.txt\n",
    "    - This will ensure plotly is documented in your project dependencies\n",
    "\n",
    "3. **Refresh Data**:\n",
    "    - Rerun the cells that load and process the requirements.txt file (cells 11-14)\n",
    "    - This will ensure your data includes the newly installed plotly package\n",
    "\n",
    "4. **Check the Data**:\n",
    "    - Consider examining the `version_count` DataFrame in Data Wrangler before visualization\n",
    "    - Click the \"Open in Data Wrangler\" button that appears above the DataFrame output\n",
    "    - This gives you an interactive way to explore the data before plotting\n",
    "\n",
    "Once these steps are complete, you'll be ready to run the visualization cell below to see the distribution of packages by major version!"
   ]
  },
  {
   "cell_type": "code",
   "execution_count": 33,
   "id": "ecd7533f",
   "metadata": {},
   "outputs": [
    {
     "data": {
      "application/vnd.plotly.v1+json": {
       "config": {
        "plotlyServerURL": "https://plot.ly"
       },
       "data": [
        {
         "hovertemplate": "Major Version=%{x}<br>Number of Packages=%{marker.color}<extra></extra>",
         "legendgroup": "",
         "marker": {
          "color": {
           "bdata": "GRIOCgYEBAQEAw==",
           "dtype": "i1"
          },
          "coloraxis": "coloraxis",
          "pattern": {
           "shape": ""
          }
         },
         "name": "",
         "orientation": "v",
         "showlegend": false,
         "textposition": "auto",
         "type": "bar",
         "x": [
          "0",
          "2",
          "1",
          "3",
          "4",
          "7",
          "6",
          "5",
          "2025",
          "25"
         ],
         "xaxis": "x",
         "y": {
          "bdata": "GRIOCgYEBAQEAw==",
          "dtype": "i1"
         },
         "yaxis": "y"
        }
       ],
       "layout": {
        "barmode": "relative",
        "coloraxis": {
         "colorbar": {
          "title": {
           "text": "Number of Packages"
          }
         },
         "colorscale": [
          [
           0,
           "#440154"
          ],
          [
           0.1111111111111111,
           "#482878"
          ],
          [
           0.2222222222222222,
           "#3e4989"
          ],
          [
           0.3333333333333333,
           "#31688e"
          ],
          [
           0.4444444444444444,
           "#26828e"
          ],
          [
           0.5555555555555556,
           "#1f9e89"
          ],
          [
           0.6666666666666666,
           "#35b779"
          ],
          [
           0.7777777777777778,
           "#6ece58"
          ],
          [
           0.8888888888888888,
           "#b5de2b"
          ],
          [
           1,
           "#fde725"
          ]
         ]
        },
        "legend": {
         "tracegroupgap": 0
        },
        "template": {
         "data": {
          "bar": [
           {
            "error_x": {
             "color": "#2a3f5f"
            },
            "error_y": {
             "color": "#2a3f5f"
            },
            "marker": {
             "line": {
              "color": "#E5ECF6",
              "width": 0.5
             },
             "pattern": {
              "fillmode": "overlay",
              "size": 10,
              "solidity": 0.2
             }
            },
            "type": "bar"
           }
          ],
          "barpolar": [
           {
            "marker": {
             "line": {
              "color": "#E5ECF6",
              "width": 0.5
             },
             "pattern": {
              "fillmode": "overlay",
              "size": 10,
              "solidity": 0.2
             }
            },
            "type": "barpolar"
           }
          ],
          "carpet": [
           {
            "aaxis": {
             "endlinecolor": "#2a3f5f",
             "gridcolor": "white",
             "linecolor": "white",
             "minorgridcolor": "white",
             "startlinecolor": "#2a3f5f"
            },
            "baxis": {
             "endlinecolor": "#2a3f5f",
             "gridcolor": "white",
             "linecolor": "white",
             "minorgridcolor": "white",
             "startlinecolor": "#2a3f5f"
            },
            "type": "carpet"
           }
          ],
          "choropleth": [
           {
            "colorbar": {
             "outlinewidth": 0,
             "ticks": ""
            },
            "type": "choropleth"
           }
          ],
          "contour": [
           {
            "colorbar": {
             "outlinewidth": 0,
             "ticks": ""
            },
            "colorscale": [
             [
              0,
              "#0d0887"
             ],
             [
              0.1111111111111111,
              "#46039f"
             ],
             [
              0.2222222222222222,
              "#7201a8"
             ],
             [
              0.3333333333333333,
              "#9c179e"
             ],
             [
              0.4444444444444444,
              "#bd3786"
             ],
             [
              0.5555555555555556,
              "#d8576b"
             ],
             [
              0.6666666666666666,
              "#ed7953"
             ],
             [
              0.7777777777777778,
              "#fb9f3a"
             ],
             [
              0.8888888888888888,
              "#fdca26"
             ],
             [
              1,
              "#f0f921"
             ]
            ],
            "type": "contour"
           }
          ],
          "contourcarpet": [
           {
            "colorbar": {
             "outlinewidth": 0,
             "ticks": ""
            },
            "type": "contourcarpet"
           }
          ],
          "heatmap": [
           {
            "colorbar": {
             "outlinewidth": 0,
             "ticks": ""
            },
            "colorscale": [
             [
              0,
              "#0d0887"
             ],
             [
              0.1111111111111111,
              "#46039f"
             ],
             [
              0.2222222222222222,
              "#7201a8"
             ],
             [
              0.3333333333333333,
              "#9c179e"
             ],
             [
              0.4444444444444444,
              "#bd3786"
             ],
             [
              0.5555555555555556,
              "#d8576b"
             ],
             [
              0.6666666666666666,
              "#ed7953"
             ],
             [
              0.7777777777777778,
              "#fb9f3a"
             ],
             [
              0.8888888888888888,
              "#fdca26"
             ],
             [
              1,
              "#f0f921"
             ]
            ],
            "type": "heatmap"
           }
          ],
          "histogram": [
           {
            "marker": {
             "pattern": {
              "fillmode": "overlay",
              "size": 10,
              "solidity": 0.2
             }
            },
            "type": "histogram"
           }
          ],
          "histogram2d": [
           {
            "colorbar": {
             "outlinewidth": 0,
             "ticks": ""
            },
            "colorscale": [
             [
              0,
              "#0d0887"
             ],
             [
              0.1111111111111111,
              "#46039f"
             ],
             [
              0.2222222222222222,
              "#7201a8"
             ],
             [
              0.3333333333333333,
              "#9c179e"
             ],
             [
              0.4444444444444444,
              "#bd3786"
             ],
             [
              0.5555555555555556,
              "#d8576b"
             ],
             [
              0.6666666666666666,
              "#ed7953"
             ],
             [
              0.7777777777777778,
              "#fb9f3a"
             ],
             [
              0.8888888888888888,
              "#fdca26"
             ],
             [
              1,
              "#f0f921"
             ]
            ],
            "type": "histogram2d"
           }
          ],
          "histogram2dcontour": [
           {
            "colorbar": {
             "outlinewidth": 0,
             "ticks": ""
            },
            "colorscale": [
             [
              0,
              "#0d0887"
             ],
             [
              0.1111111111111111,
              "#46039f"
             ],
             [
              0.2222222222222222,
              "#7201a8"
             ],
             [
              0.3333333333333333,
              "#9c179e"
             ],
             [
              0.4444444444444444,
              "#bd3786"
             ],
             [
              0.5555555555555556,
              "#d8576b"
             ],
             [
              0.6666666666666666,
              "#ed7953"
             ],
             [
              0.7777777777777778,
              "#fb9f3a"
             ],
             [
              0.8888888888888888,
              "#fdca26"
             ],
             [
              1,
              "#f0f921"
             ]
            ],
            "type": "histogram2dcontour"
           }
          ],
          "mesh3d": [
           {
            "colorbar": {
             "outlinewidth": 0,
             "ticks": ""
            },
            "type": "mesh3d"
           }
          ],
          "parcoords": [
           {
            "line": {
             "colorbar": {
              "outlinewidth": 0,
              "ticks": ""
             }
            },
            "type": "parcoords"
           }
          ],
          "pie": [
           {
            "automargin": true,
            "type": "pie"
           }
          ],
          "scatter": [
           {
            "fillpattern": {
             "fillmode": "overlay",
             "size": 10,
             "solidity": 0.2
            },
            "type": "scatter"
           }
          ],
          "scatter3d": [
           {
            "line": {
             "colorbar": {
              "outlinewidth": 0,
              "ticks": ""
             }
            },
            "marker": {
             "colorbar": {
              "outlinewidth": 0,
              "ticks": ""
             }
            },
            "type": "scatter3d"
           }
          ],
          "scattercarpet": [
           {
            "marker": {
             "colorbar": {
              "outlinewidth": 0,
              "ticks": ""
             }
            },
            "type": "scattercarpet"
           }
          ],
          "scattergeo": [
           {
            "marker": {
             "colorbar": {
              "outlinewidth": 0,
              "ticks": ""
             }
            },
            "type": "scattergeo"
           }
          ],
          "scattergl": [
           {
            "marker": {
             "colorbar": {
              "outlinewidth": 0,
              "ticks": ""
             }
            },
            "type": "scattergl"
           }
          ],
          "scattermap": [
           {
            "marker": {
             "colorbar": {
              "outlinewidth": 0,
              "ticks": ""
             }
            },
            "type": "scattermap"
           }
          ],
          "scattermapbox": [
           {
            "marker": {
             "colorbar": {
              "outlinewidth": 0,
              "ticks": ""
             }
            },
            "type": "scattermapbox"
           }
          ],
          "scatterpolar": [
           {
            "marker": {
             "colorbar": {
              "outlinewidth": 0,
              "ticks": ""
             }
            },
            "type": "scatterpolar"
           }
          ],
          "scatterpolargl": [
           {
            "marker": {
             "colorbar": {
              "outlinewidth": 0,
              "ticks": ""
             }
            },
            "type": "scatterpolargl"
           }
          ],
          "scatterternary": [
           {
            "marker": {
             "colorbar": {
              "outlinewidth": 0,
              "ticks": ""
             }
            },
            "type": "scatterternary"
           }
          ],
          "surface": [
           {
            "colorbar": {
             "outlinewidth": 0,
             "ticks": ""
            },
            "colorscale": [
             [
              0,
              "#0d0887"
             ],
             [
              0.1111111111111111,
              "#46039f"
             ],
             [
              0.2222222222222222,
              "#7201a8"
             ],
             [
              0.3333333333333333,
              "#9c179e"
             ],
             [
              0.4444444444444444,
              "#bd3786"
             ],
             [
              0.5555555555555556,
              "#d8576b"
             ],
             [
              0.6666666666666666,
              "#ed7953"
             ],
             [
              0.7777777777777778,
              "#fb9f3a"
             ],
             [
              0.8888888888888888,
              "#fdca26"
             ],
             [
              1,
              "#f0f921"
             ]
            ],
            "type": "surface"
           }
          ],
          "table": [
           {
            "cells": {
             "fill": {
              "color": "#EBF0F8"
             },
             "line": {
              "color": "white"
             }
            },
            "header": {
             "fill": {
              "color": "#C8D4E3"
             },
             "line": {
              "color": "white"
             }
            },
            "type": "table"
           }
          ]
         },
         "layout": {
          "annotationdefaults": {
           "arrowcolor": "#2a3f5f",
           "arrowhead": 0,
           "arrowwidth": 1
          },
          "autotypenumbers": "strict",
          "coloraxis": {
           "colorbar": {
            "outlinewidth": 0,
            "ticks": ""
           }
          },
          "colorscale": {
           "diverging": [
            [
             0,
             "#8e0152"
            ],
            [
             0.1,
             "#c51b7d"
            ],
            [
             0.2,
             "#de77ae"
            ],
            [
             0.3,
             "#f1b6da"
            ],
            [
             0.4,
             "#fde0ef"
            ],
            [
             0.5,
             "#f7f7f7"
            ],
            [
             0.6,
             "#e6f5d0"
            ],
            [
             0.7,
             "#b8e186"
            ],
            [
             0.8,
             "#7fbc41"
            ],
            [
             0.9,
             "#4d9221"
            ],
            [
             1,
             "#276419"
            ]
           ],
           "sequential": [
            [
             0,
             "#0d0887"
            ],
            [
             0.1111111111111111,
             "#46039f"
            ],
            [
             0.2222222222222222,
             "#7201a8"
            ],
            [
             0.3333333333333333,
             "#9c179e"
            ],
            [
             0.4444444444444444,
             "#bd3786"
            ],
            [
             0.5555555555555556,
             "#d8576b"
            ],
            [
             0.6666666666666666,
             "#ed7953"
            ],
            [
             0.7777777777777778,
             "#fb9f3a"
            ],
            [
             0.8888888888888888,
             "#fdca26"
            ],
            [
             1,
             "#f0f921"
            ]
           ],
           "sequentialminus": [
            [
             0,
             "#0d0887"
            ],
            [
             0.1111111111111111,
             "#46039f"
            ],
            [
             0.2222222222222222,
             "#7201a8"
            ],
            [
             0.3333333333333333,
             "#9c179e"
            ],
            [
             0.4444444444444444,
             "#bd3786"
            ],
            [
             0.5555555555555556,
             "#d8576b"
            ],
            [
             0.6666666666666666,
             "#ed7953"
            ],
            [
             0.7777777777777778,
             "#fb9f3a"
            ],
            [
             0.8888888888888888,
             "#fdca26"
            ],
            [
             1,
             "#f0f921"
            ]
           ]
          },
          "colorway": [
           "#636efa",
           "#EF553B",
           "#00cc96",
           "#ab63fa",
           "#FFA15A",
           "#19d3f3",
           "#FF6692",
           "#B6E880",
           "#FF97FF",
           "#FECB52"
          ],
          "font": {
           "color": "#2a3f5f"
          },
          "geo": {
           "bgcolor": "white",
           "lakecolor": "white",
           "landcolor": "#E5ECF6",
           "showlakes": true,
           "showland": true,
           "subunitcolor": "white"
          },
          "hoverlabel": {
           "align": "left"
          },
          "hovermode": "closest",
          "mapbox": {
           "style": "light"
          },
          "paper_bgcolor": "white",
          "plot_bgcolor": "#E5ECF6",
          "polar": {
           "angularaxis": {
            "gridcolor": "white",
            "linecolor": "white",
            "ticks": ""
           },
           "bgcolor": "#E5ECF6",
           "radialaxis": {
            "gridcolor": "white",
            "linecolor": "white",
            "ticks": ""
           }
          },
          "scene": {
           "xaxis": {
            "backgroundcolor": "#E5ECF6",
            "gridcolor": "white",
            "gridwidth": 2,
            "linecolor": "white",
            "showbackground": true,
            "ticks": "",
            "zerolinecolor": "white"
           },
           "yaxis": {
            "backgroundcolor": "#E5ECF6",
            "gridcolor": "white",
            "gridwidth": 2,
            "linecolor": "white",
            "showbackground": true,
            "ticks": "",
            "zerolinecolor": "white"
           },
           "zaxis": {
            "backgroundcolor": "#E5ECF6",
            "gridcolor": "white",
            "gridwidth": 2,
            "linecolor": "white",
            "showbackground": true,
            "ticks": "",
            "zerolinecolor": "white"
           }
          },
          "shapedefaults": {
           "line": {
            "color": "#2a3f5f"
           }
          },
          "ternary": {
           "aaxis": {
            "gridcolor": "white",
            "linecolor": "white",
            "ticks": ""
           },
           "baxis": {
            "gridcolor": "white",
            "linecolor": "white",
            "ticks": ""
           },
           "bgcolor": "#E5ECF6",
           "caxis": {
            "gridcolor": "white",
            "linecolor": "white",
            "ticks": ""
           }
          },
          "title": {
           "x": 0.05
          },
          "xaxis": {
           "automargin": true,
           "gridcolor": "white",
           "linecolor": "white",
           "ticks": "",
           "title": {
            "standoff": 15
           },
           "zerolinecolor": "white",
           "zerolinewidth": 2
          },
          "yaxis": {
           "automargin": true,
           "gridcolor": "white",
           "linecolor": "white",
           "ticks": "",
           "title": {
            "standoff": 15
           },
           "zerolinecolor": "white",
           "zerolinewidth": 2
          }
         }
        },
        "title": {
         "text": "Distribution of Packages by Major Version"
        },
        "xaxis": {
         "anchor": "y",
         "categoryorder": "total descending",
         "domain": [
          0,
          1
         ],
         "title": {
          "text": "Major Version"
         }
        },
        "yaxis": {
         "anchor": "x",
         "domain": [
          0,
          1
         ],
         "title": {
          "text": "Number of Packages"
         }
        }
       }
      }
     },
     "metadata": {},
     "output_type": "display_data"
    }
   ],
   "source": [
    "# Import plotly\n",
    "import plotly.express as px\n",
    "\n",
    "# Create a bar chart to visualize the distribution of packages by major version\n",
    "fig = px.bar(\n",
    "    version_count,\n",
    "    x='major_version',\n",
    "    y='count',\n",
    "    title='Distribution of Packages by Major Version',\n",
    "    labels={'major_version': 'Major Version', 'count': 'Number of Packages'},\n",
    "    color='count',\n",
    "    color_continuous_scale='Viridis'\n",
    ")\n",
    "\n",
    "# Improve layout\n",
    "fig.update_layout(\n",
    "    xaxis_title='Major Version',\n",
    "    yaxis_title='Number of Packages',\n",
    "    xaxis={'categoryorder':'total descending'}  # Sort bars by count\n",
    ")\n",
    "\n",
    "# Display the figure\n",
    "fig.show()"
   ]
  },
  {
   "cell_type": "markdown",
   "id": "001b6834",
   "metadata": {},
   "source": [
    "## 7- Exporting Your Analysis Results\n",
    "\n",
    "Now that we've analyzed and visualized our package data, let's export the results so they can be shared or used outside of this notebook:\n",
    "\n",
    "1. **CSV Export**: Save the version count data in a CSV file for use in other applications\n",
    "2. **HTML Export**: Export the interactive visualization as a standalone HTML file\n",
    "\n",
    "These exports will be saved in your current working directory."
   ]
  },
  {
   "cell_type": "code",
   "execution_count": null,
   "id": "8ba2967e",
   "metadata": {},
   "outputs": [],
   "source": [
    "# Export the version count data to CSV\n",
    "csv_file_path = 'package_version_counts.csv'\n",
    "version_count.to_csv(csv_file_path, index=False)\n",
    "print(f\"Version count data exported to: {csv_file_path}\")\n",
    "\n",
    "# Export the Plotly figure to HTML\n",
    "html_file_path = 'package_version_visualization.html'\n",
    "fig.write_html(html_file_path)\n",
    "print(f\"Interactive visualization exported to: {html_file_path}\")\n"
   ]
  },
  {
   "cell_type": "markdown",
   "id": "2e040823",
   "metadata": {},
   "source": [
    "## Conclusion and Next Steps\n",
    "\n",
    "You've now successfully:\n",
    "\n",
    "1. Set up a Jupyter Notebook environment in VS Code\n",
    "2. Created and activated a virtual environment\n",
    "3. Installed essential data science packages\n",
    "4. Verified your installation works correctly\n",
    "5. Created your first pandas DataFrame\n",
    "6. Used SQL to query your data\n",
    "7. Use Datawrangler/Plotly to dynamically visualize your data\n",
    "8. Export and save your data analysis in different formats\n",
    "\n",
    "### What's Next?\n",
    "\n",
    "Now that you have a working environment, you can:\n",
    "\n",
    "1. **Import your own data**: Use pandas to read CSV, Excel, or database files\n",
    "2. **Create visualizations**: Try matplotlib, seaborn, or plotly for data visualization\n",
    "3. **Build data pipelines**: Develop reusable data cleaning and transformation processes\n",
    "4. **Share your work**: Export your notebooks or create reports from your analyses\n",
    "\n",
    "Remember to keep your virtual environment activated when working on this project!\n",
    "\n",
    "Happy data analyzing! 📊📈"
   ]
  }
 ],
 "metadata": {
  "kernelspec": {
   "display_name": "toto",
   "language": "python",
   "name": "python3"
  },
  "language_info": {
   "codemirror_mode": {
    "name": "ipython",
    "version": 3
   },
   "file_extension": ".py",
   "mimetype": "text/x-python",
   "name": "python",
   "nbconvert_exporter": "python",
   "pygments_lexer": "ipython3",
   "version": "3.12.10"
  }
 },
 "nbformat": 4,
 "nbformat_minor": 5
}
